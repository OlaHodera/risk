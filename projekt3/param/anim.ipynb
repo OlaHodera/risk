{
 "cells": [
  {
   "cell_type": "code",
   "execution_count": null,
   "metadata": {},
   "outputs": [],
   "source": [
    "fig, ax = plt.subplots()\n",
    "\n",
    "# teoretyczna, całe dopasowanie\n",
    "xs1 = np.linspace(min(rtrs), max(rtrs), 100)\n",
    "d1 = st.t(*eval(df1['params'][-1]))\n",
    "ys1 = [d1.cdf(k) for k in xs1]\n",
    "line1, = ax.plot(xs1, ys1, alpha = 0.7)\n",
    "\n",
    "#empiryczna\n",
    "xs2 = eval(df1['ecdf_quantiles'][0])\n",
    "ys2 = np.linspace(0, 1, 499)\n",
    "line2, = ax.plot(xs2, ys2)\n",
    "\n",
    "#teoretyczna\n",
    "d3 = st.t(*eval(df1['params'][0]))\n",
    "ys3 = [d3.cdf(k) for k in xs1]\n",
    "line3, = ax.plot(xs1, ys3, alpha = 0.7)\n",
    "\n",
    "\n",
    "\n",
    "\n",
    "def animate(i):\n",
    "    ax.set_title(i)\n",
    "    xs2 = eval(df1['ecdf_quantiles'][i])\n",
    "    ys2 = np.linspace(0, 1, len(xs2))\n",
    "    line2.set_xdata(xs2)\n",
    "    line2.set_ydata(ys2)\n",
    "\n",
    "    d3 = st.t(*eval(df1['params'][i]))\n",
    "    ys2 = [d3.cdf(k) for k in xs1]\n",
    "\n",
    "    line3.set_ydata(ys2)\n",
    "    return line1, line2, line3\n",
    "\n",
    "\n",
    "ani = animation.FuncAnimation(fig, animate, interval=50, blit=True, save_count=298)\n",
    "\n",
    "# To save the animation, use e.g.\n",
    "ani.save(\"a.gif\")\n"
   ]
  }
 ],
 "metadata": {
  "language_info": {
   "name": "python"
  }
 },
 "nbformat": 4,
 "nbformat_minor": 2
}
