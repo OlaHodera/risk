{
 "cells": [
  {
   "cell_type": "code",
   "execution_count": 1,
   "metadata": {
    "collapsed": true,
    "ExecuteTime": {
     "start_time": "2024-06-13T12:14:07.396696Z",
     "end_time": "2024-06-13T12:14:09.019431Z"
    }
   },
   "outputs": [],
   "source": [
    "import pandas as pd\n",
    "import yfinance as yf"
   ]
  },
  {
   "cell_type": "code",
   "execution_count": 14,
   "outputs": [
    {
     "name": "stderr",
     "output_type": "stream",
     "text": [
      "[*********************100%%**********************]  2 of 2 completed\n"
     ]
    }
   ],
   "source": [
    "all_stock_data = yf.download(['WMT', 'CCC.WA'], start='2022-06-12', end='2024-06-13')"
   ],
   "metadata": {
    "collapsed": false,
    "ExecuteTime": {
     "start_time": "2024-06-13T12:29:16.257571Z",
     "end_time": "2024-06-13T12:29:16.775821Z"
    }
   }
  },
  {
   "cell_type": "code",
   "execution_count": 25,
   "outputs": [
    {
     "data": {
      "text/plain": "535579099136"
     },
     "execution_count": 25,
     "metadata": {},
     "output_type": "execute_result"
    }
   ],
   "source": [
    "wmt = yf.Ticker(\"WMT\")\n",
    "wmt.info['marketCap']"
   ],
   "metadata": {
    "collapsed": false,
    "ExecuteTime": {
     "start_time": "2024-06-13T21:50:26.123560Z",
     "end_time": "2024-06-13T21:50:26.576150Z"
    }
   }
  },
  {
   "cell_type": "code",
   "execution_count": 28,
   "outputs": [
    {
     "data": {
      "text/plain": "8746235904"
     },
     "execution_count": 28,
     "metadata": {},
     "output_type": "execute_result"
    }
   ],
   "source": [
    "ccc = yf.Ticker(\"CCC.WA\")\n",
    "ccc.info['marketCap']"
   ],
   "metadata": {
    "collapsed": false,
    "ExecuteTime": {
     "start_time": "2024-06-13T21:51:31.507091Z",
     "end_time": "2024-06-13T21:51:31.705632Z"
    }
   }
  },
  {
   "cell_type": "code",
   "execution_count": 15,
   "outputs": [],
   "source": [
    "raw_close = pd.DataFrame({'ccc': all_stock_data.Close['CCC.WA'], 'wmt': all_stock_data.Close.WMT})"
   ],
   "metadata": {
    "collapsed": false,
    "ExecuteTime": {
     "start_time": "2024-06-13T12:29:17.450891Z",
     "end_time": "2024-06-13T12:29:17.462525Z"
    }
   }
  },
  {
   "cell_type": "code",
   "execution_count": 16,
   "outputs": [],
   "source": [
    "close = raw_close.interpolate('linear')"
   ],
   "metadata": {
    "collapsed": false,
    "ExecuteTime": {
     "start_time": "2024-06-13T12:29:22.788501Z",
     "end_time": "2024-06-13T12:29:22.793920Z"
    }
   }
  },
  {
   "cell_type": "code",
   "execution_count": 18,
   "outputs": [],
   "source": [
    "import numpy as np\n",
    "from scipy import stats\n",
    "from scipy.optimize import fsolve"
   ],
   "metadata": {
    "collapsed": false,
    "ExecuteTime": {
     "start_time": "2024-06-13T21:33:22.295148Z",
     "end_time": "2024-06-13T21:33:25.629075Z"
    }
   }
  },
  {
   "cell_type": "code",
   "execution_count": 19,
   "outputs": [],
   "source": [
    "def system(x, L, r, k, T, t, E, sigma_E):\n",
    "    sigma, v = x\n",
    "    d1 = (np.log(v/L) + ((r - k) + sigma ** 2 / 2) * (T - t)) / (sigma * np.sqrt(T - t))\n",
    "    d2 = (np.log(v/L) + ((r - k) - sigma ** 2 / 2) * (T - t)) / (sigma * np.sqrt(T - t))\n",
    "    return v * stats.norm.cdf(d1) - L * np.exp(-r * T) * stats.norm.cdf(d2) - E,\\\n",
    "        sigma_E * E - stats.norm.cdf(d1) * sigma * v\n",
    "\n",
    "\n",
    "def insolvency_probability(L, r, k, T, t, E, sigma_E):\n",
    "    solution = fsolve(\n",
    "        lambda x: system(x, L, r, k, T, t, E, sigma_E),\n",
    "        x0=np.array([0, 0]))\n",
    "    sigma, v = solution[0], solution[1]\n",
    "    return stats.norm.cdf(\n",
    "        (np.log(L/v) - ((r - k) - sigma ** 2 / 2) * (T - t)) / (sigma * np.sqrt(T - t)))"
   ],
   "metadata": {
    "collapsed": false,
    "ExecuteTime": {
     "start_time": "2024-06-13T21:33:26.536979Z",
     "end_time": "2024-06-13T21:33:26.577739Z"
    }
   }
  },
  {
   "cell_type": "markdown",
   "source": [
    "# Stałe"
   ],
   "metadata": {
    "collapsed": false
   }
  },
  {
   "cell_type": "code",
   "execution_count": null,
   "outputs": [],
   "source": [],
   "metadata": {
    "collapsed": false
   }
  }
 ],
 "metadata": {
  "kernelspec": {
   "display_name": "Python 3",
   "language": "python",
   "name": "python3"
  },
  "language_info": {
   "codemirror_mode": {
    "name": "ipython",
    "version": 2
   },
   "file_extension": ".py",
   "mimetype": "text/x-python",
   "name": "python",
   "nbconvert_exporter": "python",
   "pygments_lexer": "ipython2",
   "version": "2.7.6"
  }
 },
 "nbformat": 4,
 "nbformat_minor": 0
}
