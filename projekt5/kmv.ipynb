{
 "cells": [
  {
   "cell_type": "code",
   "execution_count": 59,
   "outputs": [],
   "source": [
    "import pandas as pd\n",
    "import yfinance as yf\n",
    "import numpy as np\n",
    "\n",
    "from kmv import insolvency_probability"
   ],
   "metadata": {
    "collapsed": false,
    "ExecuteTime": {
     "start_time": "2024-06-14T21:50:47.038337Z",
     "end_time": "2024-06-14T21:50:47.062237Z"
    }
   }
  },
  {
   "cell_type": "code",
   "execution_count": 66,
   "outputs": [
    {
     "name": "stderr",
     "output_type": "stream",
     "text": [
      "[*********************100%%**********************]  2 of 2 completed\n"
     ]
    }
   ],
   "source": [
    "all_stock_data = yf.download(['WMT', 'CCC.WA'], start='2023-06-12', end='2024-06-13')\n",
    "raw_close = pd.DataFrame({'ccc': all_stock_data.Close['CCC.WA'], 'wmt': all_stock_data.Close.WMT})\n",
    "close = raw_close.interpolate(\"linear\")\n",
    "log_std = (np.log(close) - np.log(close.shift(1))).std()"
   ],
   "metadata": {
    "collapsed": false,
    "ExecuteTime": {
     "start_time": "2024-06-14T21:51:05.762262Z",
     "end_time": "2024-06-14T21:51:05.889106Z"
    }
   }
  },
  {
   "cell_type": "code",
   "execution_count": 62,
   "outputs": [],
   "source": [
    "wmt = yf.Ticker(\"WMT\")\n",
    "\n",
    "wmt_params = {\"L\": wmt.info[\"totalDebt\"],\n",
    "              \"r\": (4.34 / 100 + 1) ** (1 / 250) - 1,\n",
    "              \"k\": (wmt.info[\"dividendYield\"] + 1) ** (1 / 250) - 1,\n",
    "              \"sigma_E\": log_std.wmt,\n",
    "              \"E\": wmt.info[\"currentPrice\"] * wmt.info[\"sharesOutstanding\"],\n",
    "              \"market_cap\": wmt.info['marketCap']}"
   ],
   "metadata": {
    "collapsed": false,
    "ExecuteTime": {
     "start_time": "2024-06-14T21:50:53.544974Z",
     "end_time": "2024-06-14T21:50:53.759306Z"
    }
   }
  },
  {
   "cell_type": "code",
   "execution_count": 63,
   "outputs": [],
   "source": [
    "ccc = yf.Ticker(\"CCC.WA\")\n",
    "\n",
    "ccc_params = {\"L\": ccc.info[\"totalDebt\"],\n",
    "              \"r\": (5.75 / 100 + 1) ** (1 / 250) - 1,\n",
    "              \"k\": 0,\n",
    "              \"sigma_E\": log_std.ccc,\n",
    "              \"E\": ccc.info[\"currentPrice\"] * ccc.info[\"sharesOutstanding\"],\n",
    "              \"market_cap\": ccc.info['marketCap']}\n"
   ],
   "metadata": {
    "collapsed": false,
    "ExecuteTime": {
     "start_time": "2024-06-14T21:50:54.426246Z",
     "end_time": "2024-06-14T21:50:54.509398Z"
    }
   }
  },
  {
   "cell_type": "code",
   "execution_count": null,
   "outputs": [],
   "source": [],
   "metadata": {
    "collapsed": false
   }
  },
  {
   "cell_type": "code",
   "execution_count": 64,
   "outputs": [
    {
     "name": "stdout",
     "output_type": "stream",
     "text": [
      "[9.94113283e-03 5.66639770e+11]\n"
     ]
    },
    {
     "data": {
      "text/plain": "0.0001898073485735452"
     },
     "execution_count": 64,
     "metadata": {},
     "output_type": "execute_result"
    }
   ],
   "source": [
    "insolvency_probability(20 * 250, wmt_params)"
   ],
   "metadata": {
    "collapsed": false,
    "ExecuteTime": {
     "start_time": "2024-06-14T21:50:55.221053Z",
     "end_time": "2024-06-14T21:50:55.242264Z"
    }
   }
  },
  {
   "cell_type": "code",
   "execution_count": 65,
   "outputs": [
    {
     "name": "stdout",
     "output_type": "stream",
     "text": [
      "[2.77022754e-02 9.31734383e+09]\n"
     ]
    },
    {
     "data": {
      "text/plain": "0.4889506080113989"
     },
     "execution_count": 65,
     "metadata": {},
     "output_type": "execute_result"
    }
   ],
   "source": [
    "insolvency_probability(20 * 250, ccc_params)"
   ],
   "metadata": {
    "collapsed": false,
    "ExecuteTime": {
     "start_time": "2024-06-14T21:50:56.202281Z",
     "end_time": "2024-06-14T21:50:56.217466Z"
    }
   }
  },
  {
   "cell_type": "code",
   "execution_count": null,
   "outputs": [],
   "source": [],
   "metadata": {
    "collapsed": false
   }
  }
 ],
 "metadata": {
  "kernelspec": {
   "display_name": "Python 3",
   "language": "python",
   "name": "python3"
  },
  "language_info": {
   "codemirror_mode": {
    "name": "ipython",
    "version": 2
   },
   "file_extension": ".py",
   "mimetype": "text/x-python",
   "name": "python",
   "nbconvert_exporter": "python",
   "pygments_lexer": "ipython2",
   "version": "2.7.6"
  }
 },
 "nbformat": 4,
 "nbformat_minor": 0
}
