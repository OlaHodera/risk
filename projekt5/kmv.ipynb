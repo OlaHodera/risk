{
 "cells": [
  {
   "cell_type": "code",
   "execution_count": 1,
   "outputs": [],
   "source": [
    "import pandas as pd\n",
    "import yfinance as yf\n",
    "import numpy as np\n",
    "from matplotlib import pyplot as plt\n",
    "\n",
    "from kmv import insolvency_probability"
   ],
   "metadata": {
    "collapsed": false,
    "ExecuteTime": {
     "start_time": "2024-06-14T22:23:41.443027Z",
     "end_time": "2024-06-14T22:23:43.755090Z"
    }
   }
  },
  {
   "cell_type": "code",
   "execution_count": 2,
   "outputs": [
    {
     "name": "stderr",
     "output_type": "stream",
     "text": [
      "[*********************100%%**********************]  2 of 2 completed\n"
     ]
    }
   ],
   "source": [
    "all_stock_data = yf.download(['WMT', 'CCC.WA'], start='2023-06-12', end='2024-06-13')\n",
    "raw_close = pd.DataFrame({'ccc': all_stock_data.Close['CCC.WA'], 'wmt': all_stock_data.Close.WMT})\n",
    "close = raw_close.interpolate(\"linear\")\n",
    "log_std = (np.log(close) - np.log(close.shift(1))).std()"
   ],
   "metadata": {
    "collapsed": false,
    "ExecuteTime": {
     "start_time": "2024-06-14T22:23:43.759091Z",
     "end_time": "2024-06-14T22:23:44.491773Z"
    }
   }
  },
  {
   "cell_type": "code",
   "execution_count": 3,
   "outputs": [],
   "source": [
    "wmt = yf.Ticker(\"WMT\")\n",
    "\n",
    "wmt_params = {\"L\": wmt.info[\"totalDebt\"],\n",
    "              \"r\": (4.34 / 100 + 1) ** (1 / 250) - 1,\n",
    "              \"k\": (wmt.info[\"dividendYield\"] + 1) ** (1 / 250) - 1,\n",
    "              \"sigma_E\": log_std.wmt,\n",
    "              \"E\": wmt.info[\"currentPrice\"] * wmt.info[\"sharesOutstanding\"],\n",
    "              \"market_cap\": wmt.info['marketCap']}"
   ],
   "metadata": {
    "collapsed": false,
    "ExecuteTime": {
     "start_time": "2024-06-14T22:23:44.457830Z",
     "end_time": "2024-06-14T22:23:44.600309Z"
    }
   }
  },
  {
   "cell_type": "code",
   "execution_count": 4,
   "outputs": [],
   "source": [
    "ccc = yf.Ticker(\"CCC.WA\")\n",
    "\n",
    "ccc_params = {\"L\": ccc.info[\"totalDebt\"],\n",
    "              \"r\": (5.75 / 100 + 1) ** (1 / 250) - 1,\n",
    "              \"k\": 0,\n",
    "              \"sigma_E\": log_std.ccc,\n",
    "              \"E\": ccc.info[\"currentPrice\"] * ccc.info[\"sharesOutstanding\"],\n",
    "              \"market_cap\": ccc.info['marketCap']}\n"
   ],
   "metadata": {
    "collapsed": false,
    "ExecuteTime": {
     "start_time": "2024-06-14T22:23:44.603310Z",
     "end_time": "2024-06-14T22:23:44.748486Z"
    }
   }
  },
  {
   "cell_type": "code",
   "execution_count": 5,
   "outputs": [
    {
     "name": "stdout",
     "output_type": "stream",
     "text": [
      "[9.94195119e-03 5.67524556e+11]\n"
     ]
    },
    {
     "data": {
      "text/plain": "0.00018846297542329804"
     },
     "execution_count": 5,
     "metadata": {},
     "output_type": "execute_result"
    }
   ],
   "source": [
    "insolvency_probability(20 * 250, wmt_params)"
   ],
   "metadata": {
    "collapsed": false,
    "ExecuteTime": {
     "start_time": "2024-06-14T22:23:44.754009Z",
     "end_time": "2024-06-14T22:23:44.772305Z"
    }
   }
  },
  {
   "cell_type": "code",
   "execution_count": 6,
   "outputs": [
    {
     "name": "stdout",
     "output_type": "stream",
     "text": [
      "[2.77022754e-02 9.31734383e+09]\n"
     ]
    },
    {
     "data": {
      "text/plain": "0.4889506080113989"
     },
     "execution_count": 6,
     "metadata": {},
     "output_type": "execute_result"
    }
   ],
   "source": [
    "insolvency_probability(20 * 250, ccc_params)"
   ],
   "metadata": {
    "collapsed": false,
    "ExecuteTime": {
     "start_time": "2024-06-14T22:23:44.775820Z",
     "end_time": "2024-06-14T22:23:44.831657Z"
    }
   }
  },
  {
   "cell_type": "code",
   "execution_count": 7,
   "outputs": [
    {
     "data": {
      "text/plain": "8.436329984"
     },
     "execution_count": 7,
     "metadata": {},
     "output_type": "execute_result"
    }
   ],
   "source": [
    "ccc_params['market_cap'] / 10 ** 9"
   ],
   "metadata": {
    "collapsed": false,
    "ExecuteTime": {
     "start_time": "2024-06-14T22:23:44.787344Z",
     "end_time": "2024-06-14T22:23:44.833167Z"
    }
   }
  },
  {
   "cell_type": "code",
   "execution_count": 8,
   "outputs": [],
   "source": [
    "%%capture\n",
    "\n",
    "t = np.arange(0, 10, 0.05)\n",
    "wmt_probs = [insolvency_probability(i * 250, wmt_params) for i in t]\n",
    "plt.plot(t, wmt_probs)\n",
    "plt.xlabel('t, [rok]')\n",
    "plt.ylabel('prawdopodobieństwo niewypłacalności')\n",
    "plt.grid()\n",
    "plt.savefig(\"wmt.png\")"
   ],
   "metadata": {
    "collapsed": false,
    "ExecuteTime": {
     "start_time": "2024-06-14T22:23:44.795987Z",
     "end_time": "2024-06-14T22:23:45.645586Z"
    }
   }
  },
  {
   "cell_type": "code",
   "execution_count": 10,
   "outputs": [],
   "source": [
    "%%capture\n",
    "\n",
    "ccc_probs = [insolvency_probability(i * 250, ccc_params) for i in t]\n",
    "plt.plot(t, ccc_probs)\n",
    "plt.xlabel('t, [rok]')\n",
    "plt.ylabel('prawdopodobieństwo niewypłacalności')\n",
    "plt.grid()\n",
    "plt.savefig(\"ccc.png\")"
   ],
   "metadata": {
    "collapsed": false,
    "ExecuteTime": {
     "start_time": "2024-06-14T22:24:46.699732Z",
     "end_time": "2024-06-14T22:24:47.758305Z"
    }
   }
  },
  {
   "cell_type": "code",
   "execution_count": 9,
   "outputs": [],
   "source": [],
   "metadata": {
    "collapsed": false,
    "ExecuteTime": {
     "start_time": "2024-06-14T22:23:46.569080Z",
     "end_time": "2024-06-14T22:23:46.571120Z"
    }
   }
  }
 ],
 "metadata": {
  "kernelspec": {
   "name": "python3",
   "language": "python",
   "display_name": "Python 3 (ipykernel)"
  },
  "language_info": {
   "codemirror_mode": {
    "name": "ipython",
    "version": 2
   },
   "file_extension": ".py",
   "mimetype": "text/x-python",
   "name": "python",
   "nbconvert_exporter": "python",
   "pygments_lexer": "ipython2",
   "version": "2.7.6"
  }
 },
 "nbformat": 4,
 "nbformat_minor": 0
}
