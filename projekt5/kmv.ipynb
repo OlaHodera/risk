{
 "cells": [
  {
   "cell_type": "code",
   "execution_count": null,
   "outputs": [],
   "source": [
    "import pandas as pd\n",
    "import yfinance as yf\n",
    "import numpy as np\n",
    "from scipy import stats\n",
    "from scipy.optimize import fsolve"
   ],
   "metadata": {
    "collapsed": false,
    "pycharm": {
     "is_executing": true
    }
   }
  },
  {
   "cell_type": "code",
   "execution_count": 47,
   "outputs": [
    {
     "name": "stderr",
     "output_type": "stream",
     "text": [
      "C:\\Users\\mlubn\\AppData\\Local\\Temp\\ipykernel_27004\\2883816569.py:10: RuntimeWarning: The iteration is not making good progress, as measured by the \n",
      "  improvement from the last ten iterations.\n",
      "  solution = fsolve(\n"
     ]
    },
    {
     "data": {
      "text/plain": "0.9999999619669017"
     },
     "execution_count": 47,
     "metadata": {},
     "output_type": "execute_result"
    }
   ],
   "source": [
    "def system(x, T, L, r, k, E, sigma_E, t=0):\n",
    "    sigma, v = x\n",
    "    d1 = (np.log(v / L) + ((r - k) + sigma ** 2 / 2) * (T - t)) / (sigma * np.sqrt(T - t))\n",
    "    d2 = (np.log(v / L) + ((r - k) - sigma ** 2 / 2) * (T - t)) / (sigma * np.sqrt(T - t))\n",
    "    return v * stats.norm.cdf(d1) - L * np.exp(-r * T) * stats.norm.cdf(d2) - E, \\\n",
    "           sigma_E * E - stats.norm.cdf(d1) * sigma * v\n",
    "\n",
    "\n",
    "def insolvency_probability(T, parameters, t=0):\n",
    "    solution = fsolve(\n",
    "        lambda x: system(x,\n",
    "                         T,\n",
    "                         parameters[\"L\"],\n",
    "                         parameters[\"r\"],\n",
    "                         parameters[\"k\"],\n",
    "                         parameters[\"E\"],\n",
    "                         parameters[\"sigma_E\"]),\n",
    "        x0=np.array([0.01, parameters[\"market_cap\"]]))\n",
    "    sigma, v = solution[0], solution[1]\n",
    "    return stats.norm.cdf(\n",
    "        (np.log(parameters[\"L\"] / v) - ((parameters[\"r\"] - parameters[\"k\"]) - sigma ** 2 / 2) * (T - t)) / (\n",
    "                    sigma * np.sqrt(T - t)))\n"
   ],
   "metadata": {
    "collapsed": false,
    "ExecuteTime": {
     "start_time": "2024-06-14T21:06:14.709801Z",
     "end_time": "2024-06-14T21:06:14.765272Z"
    }
   }
  },
  {
   "cell_type": "code",
   "execution_count": null,
   "outputs": [],
   "source": [
    "all_stock_data = yf.download(['WMT', 'CCC.WA'], start='2023-06-12', end='2024-06-13')\n",
    "raw_close = pd.DataFrame({'ccc': all_stock_data.Close['CCC.WA'], 'wmt': all_stock_data.Close.WMT})\n",
    "close = raw_close.interpolate(\"linear\")\n",
    "log_std = (np.log(close) - np.log(close.shift(1))).std()\n",
    "log_std\n",
    "wmt = yf.Ticker(\"WMT\")"
   ],
   "metadata": {
    "collapsed": false
   }
  },
  {
   "cell_type": "code",
   "execution_count": null,
   "outputs": [],
   "source": [
    "wmt_params = {\"L\": wmt.info[\"totalDebt\"],\n",
    "              \"r\": (4.34 / 100 + 1) ** (1 / 250) - 1,\n",
    "              \"k\": (wmt.info[\"dividendYield\"] + 1) ** (1 / 250) - 1,\n",
    "              \"sigma_E\": log_std.wmt,\n",
    "              \"E\": wmt.info[\"currentPrice\"],\n",
    "              \"market_cap\": wmt.info['marketCap']}\n",
    "ccc = yf.Ticker(\"CCC.WA\")"
   ],
   "metadata": {
    "collapsed": false
   }
  },
  {
   "cell_type": "code",
   "execution_count": null,
   "outputs": [],
   "source": [
    "ccc_params = {\"L\": ccc.info[\"totalDebt\"],\n",
    "              \"r\": (5.75 / 100 + 1) ** (1 / 250) - 1,\n",
    "              \"k\": 0,\n",
    "              \"sigma_E\": log_std.ccc,\n",
    "              \"E\": ccc.info[\"currentPrice\"],\n",
    "              \"market_cap\": ccc.info['marketCap']}\n"
   ],
   "metadata": {
    "collapsed": false
   }
  },
  {
   "cell_type": "code",
   "execution_count": null,
   "outputs": [],
   "source": [
    "insolvency_probability(250, wmt_params)"
   ],
   "metadata": {
    "collapsed": false
   }
  },
  {
   "cell_type": "code",
   "execution_count": null,
   "outputs": [],
   "source": [
    "insolvency_probability(250, ccc_params)"
   ],
   "metadata": {
    "collapsed": false
   }
  }
 ],
 "metadata": {
  "kernelspec": {
   "display_name": "Python 3",
   "language": "python",
   "name": "python3"
  },
  "language_info": {
   "codemirror_mode": {
    "name": "ipython",
    "version": 2
   },
   "file_extension": ".py",
   "mimetype": "text/x-python",
   "name": "python",
   "nbconvert_exporter": "python",
   "pygments_lexer": "ipython2",
   "version": "2.7.6"
  }
 },
 "nbformat": 4,
 "nbformat_minor": 0
}
