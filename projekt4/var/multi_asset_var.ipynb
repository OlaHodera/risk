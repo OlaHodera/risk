{
 "cells": [
  {
   "cell_type": "code",
   "execution_count": 52,
   "metadata": {
    "collapsed": true,
    "ExecuteTime": {
     "start_time": "2024-06-02T14:23:39.937209Z",
     "end_time": "2024-06-02T14:23:39.950208Z"
    }
   },
   "outputs": [],
   "source": [
    "import multi_asset_var\n",
    "import numpy as np\n",
    "import pandas as pd"
   ]
  },
  {
   "cell_type": "code",
   "execution_count": 53,
   "outputs": [],
   "source": [
    "raw = pd.DataFrame()\n",
    "raw[\"CNY\"] = pd.read_csv(\"..\\\\data\\\\CNYUSD=X.csv\").Close\n",
    "raw[\"EUR\"] = pd.read_csv(\"..\\\\data\\\\EURUSD=X.csv\").Close\n",
    "returns = raw.pct_change().dropna()"
   ],
   "metadata": {
    "collapsed": false,
    "ExecuteTime": {
     "start_time": "2024-06-02T14:23:39.943210Z",
     "end_time": "2024-06-02T14:23:40.010877Z"
    }
   }
  },
  {
   "cell_type": "code",
   "execution_count": 54,
   "outputs": [],
   "source": [
    "weights = pd.read_csv(\"..\\\\data\\\\wagi.csv\")"
   ],
   "metadata": {
    "collapsed": false,
    "ExecuteTime": {
     "start_time": "2024-06-02T14:23:39.980437Z",
     "end_time": "2024-06-02T14:23:40.011870Z"
    }
   }
  },
  {
   "cell_type": "markdown",
   "source": [
    "# Portfele"
   ],
   "metadata": {
    "collapsed": false
   }
  },
  {
   "cell_type": "code",
   "execution_count": 55,
   "outputs": [],
   "source": [
    "portfolios = ['real', 'min_risk', 'fixed_return', 'market']"
   ],
   "metadata": {
    "collapsed": false,
    "ExecuteTime": {
     "start_time": "2024-06-02T14:23:39.990867Z",
     "end_time": "2024-06-02T14:23:40.016866Z"
    }
   }
  },
  {
   "cell_type": "code",
   "execution_count": 56,
   "outputs": [],
   "source": [
    "summary = pd.DataFrame(index=['VaR95', 'VaR95 miesięczny', 'VaR99', 'VaR99 miesięczny'])\n",
    "for portfolio in portfolios:\n",
    "    var95 = multi_asset_var.var(returns, weights[portfolio], .95)\n",
    "    var99 = multi_asset_var.var(returns, weights[portfolio], .99)\n",
    "    var95_monthly = multi_asset_var.var(returns, weights[portfolio], .95, 20)\n",
    "    var99_monthly = multi_asset_var.var(returns, weights[portfolio], .99, 20)\n",
    "    summary[portfolio] = [var95, var95_monthly, var99, var99_monthly]"
   ],
   "metadata": {
    "collapsed": false,
    "ExecuteTime": {
     "start_time": "2024-06-02T14:23:39.998867Z",
     "end_time": "2024-06-02T14:23:40.070735Z"
    }
   }
  },
  {
   "cell_type": "code",
   "execution_count": 57,
   "outputs": [
    {
     "data": {
      "text/plain": "                      real  min_risk  fixed_return    market\nVaR95            -0.000121 -0.000126     -0.000126 -0.000098\nVaR95 miesięczny -0.002801 -0.002868     -0.002868 -0.002559\nVaR99            -0.000111 -0.000117     -0.000117 -0.000082\nVaR99 miesięczny -0.002756 -0.002827     -0.002827 -0.002487",
      "text/html": "<div>\n<style scoped>\n    .dataframe tbody tr th:only-of-type {\n        vertical-align: middle;\n    }\n\n    .dataframe tbody tr th {\n        vertical-align: top;\n    }\n\n    .dataframe thead th {\n        text-align: right;\n    }\n</style>\n<table border=\"1\" class=\"dataframe\">\n  <thead>\n    <tr style=\"text-align: right;\">\n      <th></th>\n      <th>real</th>\n      <th>min_risk</th>\n      <th>fixed_return</th>\n      <th>market</th>\n    </tr>\n  </thead>\n  <tbody>\n    <tr>\n      <th>VaR95</th>\n      <td>-0.000121</td>\n      <td>-0.000126</td>\n      <td>-0.000126</td>\n      <td>-0.000098</td>\n    </tr>\n    <tr>\n      <th>VaR95 miesięczny</th>\n      <td>-0.002801</td>\n      <td>-0.002868</td>\n      <td>-0.002868</td>\n      <td>-0.002559</td>\n    </tr>\n    <tr>\n      <th>VaR99</th>\n      <td>-0.000111</td>\n      <td>-0.000117</td>\n      <td>-0.000117</td>\n      <td>-0.000082</td>\n    </tr>\n    <tr>\n      <th>VaR99 miesięczny</th>\n      <td>-0.002756</td>\n      <td>-0.002827</td>\n      <td>-0.002827</td>\n      <td>-0.002487</td>\n    </tr>\n  </tbody>\n</table>\n</div>"
     },
     "execution_count": 57,
     "metadata": {},
     "output_type": "execute_result"
    }
   ],
   "source": [
    "summary.to_csv(\"..\\\\data\\\\var_porfele.csv\")\n",
    "summary"
   ],
   "metadata": {
    "collapsed": false,
    "ExecuteTime": {
     "start_time": "2024-06-02T14:23:40.074737Z",
     "end_time": "2024-06-02T14:23:40.084489Z"
    }
   }
  },
  {
   "cell_type": "markdown",
   "source": [
    "# Proponowane wagi"
   ],
   "metadata": {
    "collapsed": false
   }
  },
  {
   "cell_type": "code",
   "execution_count": 58,
   "outputs": [],
   "source": [
    "weights_cny_arr = np.array([0.05, 0.25, 0.4, 0.5, 0.6, 0.75, 0.95])\n",
    "weights_grid = np.ndarray(shape=(len(weights_cny_arr), 2))\n",
    "weights_grid[:,0] = weights_cny_arr\n",
    "weights_grid[:,1] = 1 - weights_cny_arr"
   ],
   "metadata": {
    "collapsed": false,
    "ExecuteTime": {
     "start_time": "2024-06-02T14:23:40.088913Z",
     "end_time": "2024-06-02T14:23:40.091921Z"
    }
   }
  },
  {
   "cell_type": "code",
   "execution_count": 59,
   "outputs": [],
   "source": [
    "summary_grid = pd.DataFrame(index=['VaR95', 'VaR95 miesięczny', 'VaR99', 'VaR99 miesięczny'])\n",
    "for w in weights_grid:\n",
    "    var95 = multi_asset_var.var(returns, w, .95)\n",
    "    var99 = multi_asset_var.var(returns, w, .99)\n",
    "    var95_monthly = multi_asset_var.var(returns, w, .95, 20)\n",
    "    var99_monthly = multi_asset_var.var(returns, w, .99, 20)\n",
    "    summary_grid[w[0]] = [var95, var95_monthly, var99, var99_monthly]"
   ],
   "metadata": {
    "collapsed": false,
    "ExecuteTime": {
     "start_time": "2024-06-02T14:23:40.092922Z",
     "end_time": "2024-06-02T14:23:40.204505Z"
    }
   }
  },
  {
   "cell_type": "code",
   "execution_count": 60,
   "outputs": [
    {
     "data": {
      "text/plain": "                      0.05      0.25      0.40      0.50      0.60      0.75  \\\nVaR95             0.010762  0.009326  0.008567  0.008255  0.008120  0.008265   \nVaR95 miesięczny  0.045991  0.039513  0.036072  0.034647  0.034014  0.034619   \nVaR99             0.015277  0.013249  0.012176  0.011735  0.011545  0.011752   \nVaR99 miesięczny  0.066186  0.057056  0.052213  0.050213  0.049334  0.050213   \n\n                      0.95  \nVaR95             0.009061  \nVaR95 miesięczny  0.038121  \nVaR99             0.012880  \nVaR99 miesięczny  0.055197  ",
      "text/html": "<div>\n<style scoped>\n    .dataframe tbody tr th:only-of-type {\n        vertical-align: middle;\n    }\n\n    .dataframe tbody tr th {\n        vertical-align: top;\n    }\n\n    .dataframe thead th {\n        text-align: right;\n    }\n</style>\n<table border=\"1\" class=\"dataframe\">\n  <thead>\n    <tr style=\"text-align: right;\">\n      <th></th>\n      <th>0.05</th>\n      <th>0.25</th>\n      <th>0.40</th>\n      <th>0.50</th>\n      <th>0.60</th>\n      <th>0.75</th>\n      <th>0.95</th>\n    </tr>\n  </thead>\n  <tbody>\n    <tr>\n      <th>VaR95</th>\n      <td>0.010762</td>\n      <td>0.009326</td>\n      <td>0.008567</td>\n      <td>0.008255</td>\n      <td>0.008120</td>\n      <td>0.008265</td>\n      <td>0.009061</td>\n    </tr>\n    <tr>\n      <th>VaR95 miesięczny</th>\n      <td>0.045991</td>\n      <td>0.039513</td>\n      <td>0.036072</td>\n      <td>0.034647</td>\n      <td>0.034014</td>\n      <td>0.034619</td>\n      <td>0.038121</td>\n    </tr>\n    <tr>\n      <th>VaR99</th>\n      <td>0.015277</td>\n      <td>0.013249</td>\n      <td>0.012176</td>\n      <td>0.011735</td>\n      <td>0.011545</td>\n      <td>0.011752</td>\n      <td>0.012880</td>\n    </tr>\n    <tr>\n      <th>VaR99 miesięczny</th>\n      <td>0.066186</td>\n      <td>0.057056</td>\n      <td>0.052213</td>\n      <td>0.050213</td>\n      <td>0.049334</td>\n      <td>0.050213</td>\n      <td>0.055197</td>\n    </tr>\n  </tbody>\n</table>\n</div>"
     },
     "execution_count": 60,
     "metadata": {},
     "output_type": "execute_result"
    }
   ],
   "source": [
    "summary_grid.to_csv(\"..\\\\data\\\\var_wybrane_wagi.csv\")\n",
    "summary_grid"
   ],
   "metadata": {
    "collapsed": false,
    "ExecuteTime": {
     "start_time": "2024-06-02T14:23:40.155493Z",
     "end_time": "2024-06-02T14:23:40.211528Z"
    }
   }
  },
  {
   "cell_type": "code",
   "execution_count": 60,
   "outputs": [],
   "source": [],
   "metadata": {
    "collapsed": false,
    "ExecuteTime": {
     "start_time": "2024-06-02T14:23:40.172820Z",
     "end_time": "2024-06-02T14:23:40.212525Z"
    }
   }
  }
 ],
 "metadata": {
  "kernelspec": {
   "name": "python3",
   "language": "python",
   "display_name": "Python 3 (ipykernel)"
  },
  "language_info": {
   "codemirror_mode": {
    "name": "ipython",
    "version": 2
   },
   "file_extension": ".py",
   "mimetype": "text/x-python",
   "name": "python",
   "nbconvert_exporter": "python",
   "pygments_lexer": "ipython2",
   "version": "2.7.6"
  }
 },
 "nbformat": 4,
 "nbformat_minor": 0
}
