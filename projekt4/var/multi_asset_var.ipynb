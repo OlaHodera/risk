{
 "cells": [
  {
   "cell_type": "code",
   "execution_count": 37,
   "metadata": {
    "collapsed": true,
    "ExecuteTime": {
     "start_time": "2024-06-02T14:09:24.856923Z",
     "end_time": "2024-06-02T14:09:24.863943Z"
    }
   },
   "outputs": [],
   "source": [
    "import multi_asset_var\n",
    "import numpy as np\n",
    "import pandas as pd"
   ]
  },
  {
   "cell_type": "code",
   "execution_count": 3,
   "outputs": [],
   "source": [
    "raw = pd.DataFrame()\n",
    "raw[\"CNY\"] = pd.read_csv(\"..\\\\data\\\\CNYUSD=X.csv\").Close\n",
    "raw[\"EUR\"] = pd.read_csv(\"..\\\\data\\\\EURUSD=X.csv\").Close\n",
    "returns = raw.pct_change().dropna()"
   ],
   "metadata": {
    "collapsed": false,
    "ExecuteTime": {
     "start_time": "2024-06-02T13:43:22.401554Z",
     "end_time": "2024-06-02T13:43:22.455087Z"
    }
   }
  },
  {
   "cell_type": "code",
   "execution_count": 4,
   "outputs": [],
   "source": [
    "weights = pd.read_csv(\"..\\\\data\\\\wagi.csv\")"
   ],
   "metadata": {
    "collapsed": false,
    "ExecuteTime": {
     "start_time": "2024-06-02T13:43:23.145869Z",
     "end_time": "2024-06-02T13:43:23.158801Z"
    }
   }
  },
  {
   "cell_type": "markdown",
   "source": [
    "# Portfele"
   ],
   "metadata": {
    "collapsed": false
   }
  },
  {
   "cell_type": "code",
   "execution_count": 33,
   "outputs": [],
   "source": [
    "portfolios = ['real', 'min_risk', 'fixed_return', 'market']"
   ],
   "metadata": {
    "collapsed": false,
    "ExecuteTime": {
     "start_time": "2024-06-02T14:06:20.418461Z",
     "end_time": "2024-06-02T14:06:20.426498Z"
    }
   }
  },
  {
   "cell_type": "code",
   "execution_count": 34,
   "outputs": [],
   "source": [
    "summary = pd.DataFrame(index=['VaR95', 'VaR95 miesięczny', 'VaR99', 'VaR99 miesięczny'])\n",
    "for portfolio in portfolios:\n",
    "    var95 = multi_asset_var.var(returns, weights[portfolio], .95)\n",
    "    var99 = multi_asset_var.var(returns, weights[portfolio], .99)\n",
    "    var95_monthly = multi_asset_var.var(returns, weights[portfolio], .95, 20)\n",
    "    var99_monthly = multi_asset_var.var(returns, weights[portfolio], .99, 20)\n",
    "    summary[portfolio] = [var95, var95_monthly, var99, var99_monthly]"
   ],
   "metadata": {
    "collapsed": false,
    "ExecuteTime": {
     "start_time": "2024-06-02T14:06:20.969316Z",
     "end_time": "2024-06-02T14:06:21.051951Z"
    }
   }
  },
  {
   "cell_type": "code",
   "execution_count": 36,
   "outputs": [
    {
     "data": {
      "text/plain": "                      real  min_risk  fixed_return    market\nVaR95            -0.000121 -0.000126     -0.000126 -0.000098\nVaR95 miesięczny -0.002801 -0.002868     -0.002868 -0.002559\nVaR99            -0.000111 -0.000117     -0.000117 -0.000082\nVaR99 miesięczny -0.002756 -0.002827     -0.002827 -0.002487",
      "text/html": "<div>\n<style scoped>\n    .dataframe tbody tr th:only-of-type {\n        vertical-align: middle;\n    }\n\n    .dataframe tbody tr th {\n        vertical-align: top;\n    }\n\n    .dataframe thead th {\n        text-align: right;\n    }\n</style>\n<table border=\"1\" class=\"dataframe\">\n  <thead>\n    <tr style=\"text-align: right;\">\n      <th></th>\n      <th>real</th>\n      <th>min_risk</th>\n      <th>fixed_return</th>\n      <th>market</th>\n    </tr>\n  </thead>\n  <tbody>\n    <tr>\n      <th>VaR95</th>\n      <td>-0.000121</td>\n      <td>-0.000126</td>\n      <td>-0.000126</td>\n      <td>-0.000098</td>\n    </tr>\n    <tr>\n      <th>VaR95 miesięczny</th>\n      <td>-0.002801</td>\n      <td>-0.002868</td>\n      <td>-0.002868</td>\n      <td>-0.002559</td>\n    </tr>\n    <tr>\n      <th>VaR99</th>\n      <td>-0.000111</td>\n      <td>-0.000117</td>\n      <td>-0.000117</td>\n      <td>-0.000082</td>\n    </tr>\n    <tr>\n      <th>VaR99 miesięczny</th>\n      <td>-0.002756</td>\n      <td>-0.002827</td>\n      <td>-0.002827</td>\n      <td>-0.002487</td>\n    </tr>\n  </tbody>\n</table>\n</div>"
     },
     "execution_count": 36,
     "metadata": {},
     "output_type": "execute_result"
    }
   ],
   "source": [
    "summary.to_csv(\"..\\\\data\\\\var_porfele.csv\")\n",
    "summary"
   ],
   "metadata": {
    "collapsed": false,
    "ExecuteTime": {
     "start_time": "2024-06-02T14:08:07.480652Z",
     "end_time": "2024-06-02T14:08:07.504669Z"
    }
   }
  },
  {
   "cell_type": "markdown",
   "source": [
    "# Proponowane wagi"
   ],
   "metadata": {
    "collapsed": false
   }
  },
  {
   "cell_type": "code",
   "execution_count": 44,
   "outputs": [],
   "source": [
    "weights_cny_arr = np.array([0.05, 0.25, 0.4, 0.5, 0.6, 0.75, 0.95])\n",
    "weights_grid = np.ndarray(shape=(len(weights_cny_arr), 2))\n",
    "weights_grid[:,0] = weights_cny_arr\n",
    "weights_grid[:,1] = 1 - weights_cny_arr"
   ],
   "metadata": {
    "collapsed": false,
    "ExecuteTime": {
     "start_time": "2024-06-02T14:16:12.884367Z",
     "end_time": "2024-06-02T14:16:12.908834Z"
    }
   }
  },
  {
   "cell_type": "code",
   "execution_count": 47,
   "outputs": [],
   "source": [
    "summary_grid = pd.DataFrame(index=['VaR95', 'VaR95 miesięczny', 'VaR99', 'VaR99 miesięczny'])\n",
    "for w in weights_grid:\n",
    "    var95 = multi_asset_var.var(returns, w, .95)\n",
    "    var99 = multi_asset_var.var(returns, w, .99)\n",
    "    var95_monthly = multi_asset_var.var(returns, w, .95, 20)\n",
    "    var99_monthly = multi_asset_var.var(returns, w, .99, 20)\n",
    "    summary_grid[w[0]] = [var95, var95_monthly, var99, var99_monthly]"
   ],
   "metadata": {
    "collapsed": false,
    "ExecuteTime": {
     "start_time": "2024-06-02T14:18:39.998373Z",
     "end_time": "2024-06-02T14:18:40.059643Z"
    }
   }
  },
  {
   "cell_type": "code",
   "execution_count": 50,
   "outputs": [],
   "source": [
    "summary_grid.to_csv(\"..\\\\data\\\\var_wybrane_wagi.csv\")\n",
    "summary_grid"
   ],
   "metadata": {
    "collapsed": false,
    "ExecuteTime": {
     "start_time": "2024-06-02T14:19:36.487312Z",
     "end_time": "2024-06-02T14:19:36.507694Z"
    }
   }
  },
  {
   "cell_type": "code",
   "execution_count": null,
   "outputs": [],
   "source": [],
   "metadata": {
    "collapsed": false
   }
  }
 ],
 "metadata": {
  "kernelspec": {
   "name": "python3",
   "language": "python",
   "display_name": "Python 3 (ipykernel)"
  },
  "language_info": {
   "codemirror_mode": {
    "name": "ipython",
    "version": 2
   },
   "file_extension": ".py",
   "mimetype": "text/x-python",
   "name": "python",
   "nbconvert_exporter": "python",
   "pygments_lexer": "ipython2",
   "version": "2.7.6"
  }
 },
 "nbformat": 4,
 "nbformat_minor": 0
}
