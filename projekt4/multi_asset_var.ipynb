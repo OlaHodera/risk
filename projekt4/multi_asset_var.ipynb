{
 "cells": [
  {
   "cell_type": "code",
   "execution_count": 1,
   "metadata": {
    "collapsed": true,
    "ExecuteTime": {
     "start_time": "2024-05-30T21:02:42.193092Z",
     "end_time": "2024-05-30T21:02:43.262663Z"
    }
   },
   "outputs": [],
   "source": [
    "import yfinance as yf\n",
    "import multi_asset_var\n",
    "import numpy as np"
   ]
  },
  {
   "cell_type": "code",
   "execution_count": 2,
   "outputs": [
    {
     "name": "stderr",
     "output_type": "stream",
     "text": [
      "[*********************100%%**********************]  2 of 2 completed\n"
     ]
    }
   ],
   "source": [
    "data = yf.download(tickers=['USDCNY=X', 'USDEUR=X'],\n",
    "                   start='2021-05-30',\n",
    "                   end='2024-05-30')['Close'][['USDCNY=X', 'USDEUR=X']].rename(columns={'USDCNY=X':'CNY','USDEUR=X': 'EUR'})"
   ],
   "metadata": {
    "collapsed": false,
    "ExecuteTime": {
     "start_time": "2024-05-30T21:02:43.265701Z",
     "end_time": "2024-05-30T21:02:43.763875Z"
    }
   }
  },
  {
   "cell_type": "code",
   "execution_count": 3,
   "outputs": [],
   "source": [
    "data = data.pct_change()\n",
    "weights = np.array([0.4, 0.6])"
   ],
   "metadata": {
    "collapsed": false,
    "ExecuteTime": {
     "start_time": "2024-05-30T21:02:43.765790Z",
     "end_time": "2024-05-30T21:02:43.804429Z"
    }
   }
  },
  {
   "cell_type": "code",
   "execution_count": 4,
   "outputs": [],
   "source": [
    "var95 = multi_asset_var.var(data, weights, .95)\n",
    "var99 = multi_asset_var.var(data, weights, .99)"
   ],
   "metadata": {
    "collapsed": false,
    "ExecuteTime": {
     "start_time": "2024-05-30T21:02:43.773649Z",
     "end_time": "2024-05-30T21:02:43.808597Z"
    }
   }
  },
  {
   "cell_type": "code",
   "execution_count": 5,
   "outputs": [
    {
     "data": {
      "text/plain": "(0.008872796014946636, 0.012480308848872239)"
     },
     "execution_count": 5,
     "metadata": {},
     "output_type": "execute_result"
    }
   ],
   "source": [
    "var95, var99  # dzienne"
   ],
   "metadata": {
    "collapsed": false,
    "ExecuteTime": {
     "start_time": "2024-05-30T21:02:43.789490Z",
     "end_time": "2024-05-30T21:02:43.809638Z"
    }
   }
  },
  {
   "cell_type": "code",
   "execution_count": 6,
   "outputs": [
    {
     "data": {
      "text/plain": "(0.04225343731766858, 0.05838672517038969)"
     },
     "execution_count": 6,
     "metadata": {},
     "output_type": "execute_result"
    }
   ],
   "source": [
    "var95_monthly = multi_asset_var.var(data, weights, .95, 20)\n",
    "var99_monthly = multi_asset_var.var(data, weights, .99, 20)\n",
    "var95_monthly, var99_monthly"
   ],
   "metadata": {
    "collapsed": false,
    "ExecuteTime": {
     "start_time": "2024-05-30T21:03:29.390806Z",
     "end_time": "2024-05-30T21:03:29.410347Z"
    }
   }
  },
  {
   "cell_type": "code",
   "execution_count": null,
   "outputs": [],
   "source": [],
   "metadata": {
    "collapsed": false
   }
  }
 ],
 "metadata": {
  "kernelspec": {
   "name": "python3",
   "language": "python",
   "display_name": "Python 3 (ipykernel)"
  },
  "language_info": {
   "codemirror_mode": {
    "name": "ipython",
    "version": 2
   },
   "file_extension": ".py",
   "mimetype": "text/x-python",
   "name": "python",
   "nbconvert_exporter": "python",
   "pygments_lexer": "ipython2",
   "version": "2.7.6"
  }
 },
 "nbformat": 4,
 "nbformat_minor": 0
}
